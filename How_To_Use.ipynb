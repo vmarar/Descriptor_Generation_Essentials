{
 "cells": [
  {
   "cell_type": "code",
   "execution_count": null,
   "id": "75935a83",
   "metadata": {},
   "outputs": [],
   "source": [
    "# Generate all Descriptors for QSAR MODELING - descriptors, fingerprints and functional groups \n",
    "from descriptor_generation_essentials import generate_descriptors\n",
    "# the two no strings denote whether you want to generate fingerprints and whether you want to generate FGS\n",
    "fingerprint_check = 'no'\n",
    "functional_group_check = 'no'\n",
    "data ,descriptorlist_full = generate_descriptors.generate_all_descriptors(data,\n",
    "                                                                          fingerprint_check, \n",
    "                                                                          functional_group_check)"
   ]
  },
  {
   "cell_type": "code",
   "execution_count": null,
   "id": "0fe92513",
   "metadata": {},
   "outputs": [],
   "source": [
    "# Generate all Fingerprints seperatley\n",
    "from descriptor_generation_essentials import generate_descriptors\n",
    "data ,descriptorlist_full = generate_descriptors.calc_fingerprints(data)"
   ]
  },
  {
   "cell_type": "code",
   "execution_count": null,
   "id": "5477431f",
   "metadata": {},
   "outputs": [],
   "source": [
    "# Generate all Functional groups seperatley\n",
    "from descriptor_generation_essentials import generate_descriptors\n",
    "data ,descriptorlist_full = generate_descriptors.calc_fingerprints(data)"
   ]
  },
  {
   "cell_type": "code",
   "execution_count": null,
   "id": "70425f49",
   "metadata": {},
   "outputs": [],
   "source": [
    "# Generate BRICS algorithim ALL FGS ONLY\n",
    "from descriptor_generation_essentials import generate_descriptors\n",
    "data['FGS'] = data['SMILES'].apply(lambda x: generate_descriptors.BRICS_implementation(x))"
   ]
  },
  {
   "cell_type": "code",
   "execution_count": null,
   "id": "d9c4c361",
   "metadata": {},
   "outputs": [],
   "source": [
    "# Generate Ertyl algorithim all FGS ONLY\n",
    "from descriptor_generation_essentials import generate_descriptors\n",
    "data['FGS'] = data['SMILES'].apply(lambda x: generate_descriptors.find_fg(x))"
   ]
  },
  {
   "cell_type": "code",
   "execution_count": null,
   "id": "c8ad8671",
   "metadata": {},
   "outputs": [],
   "source": [
    "# Generate Functional Group Hierarchy all FGS ONLY\n",
    "from descriptor_generation_essentials import tree_search_main\n",
    "list_of_nodes, cluster_list = tree_search_main.initalize_nodes()\n",
    "data['FGS3'] = tree_search_main.generate_fg_hierarchy_descriptors(data, list_of_nodes, cluster_list)"
   ]
  },
  {
   "cell_type": "code",
   "execution_count": null,
   "id": "9208a553",
   "metadata": {},
   "outputs": [],
   "source": [
    "# Generate descriptors that contain -  descriptors, fingerprints and functional groups for a QSAR MODELS INPUT\n",
    "from descriptor_generation_essentials import generate_descriptors\n",
    "#descs = list containing descriptors, fingerprints and FGS for a specific QSAR MODEL \n",
    "data, remaining_desc = generate_descriptors.generate_descriptor_subset(data, descs)\n",
    "data, fingerprints = generate_descriptors.calc_fingerprints(data)\n",
    "for i in remaining_desc:\n",
    "    if i in fingerprints:\n",
    "        remaining_desc.remove(i)\n",
    "data = generate_descriptors.generate_descriptor_subset(data, remaining_desc)"
   ]
  },
  {
   "cell_type": "code",
   "execution_count": null,
   "id": "691827de",
   "metadata": {},
   "outputs": [],
   "source": [
    "# Generate descriptors that contain - mixed functional group algorithims only \n",
    "\n",
    "from descriptor_generation_essentials import generate_descriptors\n",
    "#descs =  FGS for a specific QSAR MODEL \n",
    "data = generate_descriptors.generate_descriptor_subset(data, descs)"
   ]
  },
  {
   "cell_type": "code",
   "execution_count": null,
   "id": "d62be53d",
   "metadata": {},
   "outputs": [],
   "source": [
    "# Generate descriptors that contain - functional group hierarchy subset for model \n",
    "from descriptor_generation_essentials import tree_search_main\n",
    "# descs =  FGS for a specific QSAR MODEL \n",
    "data, remaining_desc = tree_search_main.generate_needed_fg_hierarchy_descriptors(data, descs)\n",
    "# remaining_desc should return an empty list"
   ]
  }
 ],
 "metadata": {
  "kernelspec": {
   "display_name": "Python 3",
   "language": "python",
   "name": "python3"
  },
  "language_info": {
   "codemirror_mode": {
    "name": "ipython",
    "version": 3
   },
   "file_extension": ".py",
   "mimetype": "text/x-python",
   "name": "python",
   "nbconvert_exporter": "python",
   "pygments_lexer": "ipython3",
   "version": "3.7.7"
  }
 },
 "nbformat": 4,
 "nbformat_minor": 5
}
